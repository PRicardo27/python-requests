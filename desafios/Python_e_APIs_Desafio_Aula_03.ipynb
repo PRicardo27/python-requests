{
 "cells": [
  {
   "cell_type": "markdown",
   "id": "10322c0a",
   "metadata": {},
   "source": [
    "Para praticar o conteúdo aprendido no decorrer dessa aula e também aprender novos, vamos realizar um desafio prático utilizando a biblioteca Pandas e os dados da API do GitHub.\n",
    "\n",
    "No desafio da aula 2 nós extraímos os dados de todos os seguidores da conta do Github da Amazon e armazenamos eles na lista \"followers_list\". Considerando isso, nossa tarefa agora é aplicar as transformações necessárias nos dados armazenados na lista **followers_list** para **selecionarmos apenas o nome de usuário de cada seguidor**.\n",
    "\n",
    "Para concluirmos essa tarefa é importante:\n",
    "\n",
    "- entender como os dados dos seguidores estão estruturados na lista;\n",
    "- armazenar o nome de usuário de cada seguidor em uma lista;\n",
    "- conferir o tamanho da lista de nomes de usuário de seguidores para ter certeza que é igual ao número de seguidores apresentados no Github;\n",
    "- estruturar os dados em um DataFrame e salvá-los em CSV."
   ]
  },
  {
   "cell_type": "code",
   "execution_count": 2,
   "id": "7036e742",
   "metadata": {},
   "outputs": [],
   "source": [
    "import requests as req\n",
    "import pandas as pd"
   ]
  },
  {
   "cell_type": "code",
   "execution_count": null,
   "id": "440cefdb",
   "metadata": {},
   "outputs": [],
   "source": [
    "user = 'amzn'\n",
    "url_api = 'https://api.github.com'\n",
    "token = '<<adicionar token>>'\n",
    "headers = {'Authorization' : 'Bearer '+ token,\n",
    "           'X-GitHub-Api-Version': '2022-11-28'}\n",
    "\n",
    "url = f'{url_api}/users/{user}/followers'"
   ]
  },
  {
   "cell_type": "code",
   "execution_count": 55,
   "id": "adc4b7a1",
   "metadata": {},
   "outputs": [],
   "source": [
    "followers_list = []\n",
    "pg = 1\n",
    "\n",
    "while True:\n",
    "    resp = req.get(f'{url}?per_page=100&page={pg}',headers=headers)\n",
    "    follower = resp.json()\n",
    "    \n",
    "    if len(follower) == 0:\n",
    "        break\n",
    "\n",
    "    followers_list.append(follower)\n",
    "    pg += 1"
   ]
  },
  {
   "cell_type": "code",
   "execution_count": 61,
   "id": "75796dd6",
   "metadata": {},
   "outputs": [
    {
     "data": {
      "text/plain": [
       "{'login': 'vincentkoc',\n",
       " 'id': 25068,\n",
       " 'node_id': 'MDQ6VXNlcjI1MDY4',\n",
       " 'avatar_url': 'https://avatars.githubusercontent.com/u/25068?v=4',\n",
       " 'gravatar_id': '',\n",
       " 'url': 'https://api.github.com/users/vincentkoc',\n",
       " 'html_url': 'https://github.com/vincentkoc',\n",
       " 'followers_url': 'https://api.github.com/users/vincentkoc/followers',\n",
       " 'following_url': 'https://api.github.com/users/vincentkoc/following{/other_user}',\n",
       " 'gists_url': 'https://api.github.com/users/vincentkoc/gists{/gist_id}',\n",
       " 'starred_url': 'https://api.github.com/users/vincentkoc/starred{/owner}{/repo}',\n",
       " 'subscriptions_url': 'https://api.github.com/users/vincentkoc/subscriptions',\n",
       " 'organizations_url': 'https://api.github.com/users/vincentkoc/orgs',\n",
       " 'repos_url': 'https://api.github.com/users/vincentkoc/repos',\n",
       " 'events_url': 'https://api.github.com/users/vincentkoc/events{/privacy}',\n",
       " 'received_events_url': 'https://api.github.com/users/vincentkoc/received_events',\n",
       " 'type': 'User',\n",
       " 'user_view_type': 'public',\n",
       " 'site_admin': False}"
      ]
     },
     "execution_count": 61,
     "metadata": {},
     "output_type": "execute_result"
    }
   ],
   "source": [
    "followers_list[0][3]"
   ]
  },
  {
   "cell_type": "code",
   "execution_count": 60,
   "id": "533a3bd5",
   "metadata": {},
   "outputs": [
    {
     "data": {
      "text/plain": [
       "2066"
      ]
     },
     "execution_count": 60,
     "metadata": {},
     "output_type": "execute_result"
    }
   ],
   "source": [
    "followers_names = []\n",
    "\n",
    "for followers in followers_list:\n",
    "    followers_names += (follower['login'] for follower in followers)\n",
    "\n",
    "\n",
    "len(followers_names)"
   ]
  },
  {
   "cell_type": "code",
   "execution_count": 66,
   "id": "c8f039be",
   "metadata": {},
   "outputs": [],
   "source": [
    "Dataframe_Followers_Names = pd.DataFrame()\n",
    "\n",
    "Dataframe_Followers_Names['Nomes'] = followers_names"
   ]
  },
  {
   "cell_type": "code",
   "execution_count": 69,
   "id": "791fe80b",
   "metadata": {},
   "outputs": [],
   "source": [
    "Dataframe_Followers_Names.to_csv('../data_processed/Followers_Amazon_GitHub.csv')"
   ]
  }
 ],
 "metadata": {
  "kernelspec": {
   "display_name": ".venv",
   "language": "python",
   "name": "python3"
  },
  "language_info": {
   "codemirror_mode": {
    "name": "ipython",
    "version": 3
   },
   "file_extension": ".py",
   "mimetype": "text/x-python",
   "name": "python",
   "nbconvert_exporter": "python",
   "pygments_lexer": "ipython3",
   "version": "3.10.12"
  }
 },
 "nbformat": 4,
 "nbformat_minor": 5
}
