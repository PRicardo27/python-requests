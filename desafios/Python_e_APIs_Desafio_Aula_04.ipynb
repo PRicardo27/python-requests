{
 "cells": [
  {
   "cell_type": "markdown",
   "id": "10322c0a",
   "metadata": {},
   "source": [
    "Para praticar o conteúdo aprendido no decorrer dessa aula e também aprender novos, vamos realizar um desafio prático utilizando a biblioteca Requests e a API do GitHub.\n",
    "\n",
    "Nossa próxima tarefa é realizar o fork de um repositório da Amazon utilizando uma requisição do tipo POST.\n",
    "\n",
    "> Fazer um fork de um repositório é como criar uma cópia de um projeto que pertence a outra pessoa ou organização dentro do seu próprio perfil no GitHub. Isso permite que você trabalhe em uma versão do projeto sem afetar o original, podendo fazer modificações, correções de bugs e melhorias.\n",
    "\n",
    "Para realizarmos esse processo, vamos precisar acessar a documentação da API do GitHub onde existem informações sobre como realizar esse processo: <a href=\"https://docs.github.com/en/rest/repos/forks?apiVersion=2022-11-28#create-a-fork\">Forks - Create a fork</a>.\n",
    "\n",
    "Após analisar a documentação, é importante não esquecermos de realizar alguns passos:\n",
    "\n",
    "- conferir o endpoint que deve ser utilizado para realização do fork;\n",
    "- acessar os <a href=https://github.com/orgs/amzn/repositories>repositórios públicos da Amazon</a>, selecionar um deles para fazer o fork e salvar seu nome em uma variável;\n",
    "- enviar o token e a versão da API no momento de fazer a requisição."
   ]
  },
  {
   "cell_type": "code",
   "execution_count": 5,
   "id": "2051ed6f",
   "metadata": {},
   "outputs": [],
   "source": [
    "import requests as r"
   ]
  },
  {
   "cell_type": "code",
   "execution_count": null,
   "id": "08349beb",
   "metadata": {},
   "outputs": [],
   "source": [
    "api_base_url = 'https://api.github.com'\n",
    "token = '<<adicionar token>>'\n",
    "fork_repo = 'pretraining-or-self-training'\n",
    "owner = 'amzn'\n",
    "\n",
    "url = f'{api_base_url}/repos/{owner}/{fork_repo}/forks'\n",
    "\n",
    "headers = {'Accept':'application/vnd.github+json',\n",
    "           'Authorization' : 'Bearer '+ token,\n",
    "           'X-GitHub-Api-Version': '2022-11-28'}"
   ]
  },
  {
   "cell_type": "code",
   "execution_count": 10,
   "id": "8f42b9d0",
   "metadata": {},
   "outputs": [
    {
     "data": {
      "text/plain": [
       "202"
      ]
     },
     "execution_count": 10,
     "metadata": {},
     "output_type": "execute_result"
    }
   ],
   "source": [
    "response = r.post(url,headers=headers)\n",
    "\n",
    "response.status_code"
   ]
  }
 ],
 "metadata": {
  "kernelspec": {
   "display_name": ".venv",
   "language": "python",
   "name": "python3"
  },
  "language_info": {
   "codemirror_mode": {
    "name": "ipython",
    "version": 3
   },
   "file_extension": ".py",
   "mimetype": "text/x-python",
   "name": "python",
   "nbconvert_exporter": "python",
   "pygments_lexer": "ipython3",
   "version": "3.10.12"
  }
 },
 "nbformat": 4,
 "nbformat_minor": 5
}
