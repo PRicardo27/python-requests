{
 "cells": [
  {
   "cell_type": "markdown",
   "id": "10322c0a",
   "metadata": {},
   "source": [
    "Para praticar o conteúdo aprendido no decorrer dessa aula e também aprender novos, vamos realizar um desafio prático utilizando a biblioteca Requests e a API do GitHub.\n",
    "\n",
    "Dessa vez, nossa tarefa é extrair os dados sobre os seguidores da conta da Amazon no GitHub. Para fazermos isso, vamos utilizar como referência a seguinte documentação: List followers of a user.\n",
    "\n",
    "Analisando a documentação, nós chegamos ao seguinte código inicial:\n",
    "\n",
    "```\n",
    "import requests\n",
    "\n",
    "username = 'amzn'\n",
    "url = f\"https://api.github.com/users/{username}/followers\"\n",
    "\n",
    "response = requests.get(url, headers=headers)\n",
    "followers = response.json()\n",
    "```\n",
    "\n",
    "No entanto, ao conferir o tamanho da lista followers, utilizando a função len(followers), notamos que ela possuía apenas os dados de 30 seguidores da conta do GitHub da Amazon. A conta tem muito mais de 30 seguidores, mas eles estão separados em diferentes páginas, e justamente por isso, ao conferirmos o tamanho da lista, o retorno foi 30.\n",
    "\n",
    "Sendo assim, para conseguirmos extrair os dados de todos os seguidores, vamos precisar melhorar o nosso código e implementar o processo de paginação.\n",
    "\n",
    "Durante essa etapa, devemos nos atentar a alguns detalhes:\n",
    "\n",
    "- criar uma lista vazia chamada followers_list para armazenar as informações sobre os seguidores;\n",
    "\n",
    "- utilizar um laço para iterar e extrair os dados dos seguidores existentes em cada uma das páginas (dica: caso você não tenha conhecimento de quantas páginas com seguidores existem, pesquise como utilizar o laço While True do Python);\n",
    "\n",
    "- acrescentar o parâmetro \"page\" na url, alterando o valor dele a cada iteração do laço que estiver sendo usado para paginação (lembre-se que a numeração das páginas sempre começam a partir do número 1);\n",
    "\n",
    "- enviar o token e a versão da API para o parâmetro headers no momento de fazer a requisição GET."
   ]
  },
  {
   "cell_type": "code",
   "execution_count": null,
   "id": "adc4b7a1",
   "metadata": {},
   "outputs": [],
   "source": [
    "import requests\n",
    "\n",
    "username = 'amzn'\n",
    "url = f\"https://api.github.com/users/{username}/followers\"\n",
    "\n",
    "# definindo o token e a versão da API\n",
    "access_token = '<<adicionar token>>'\n",
    "headers = {'Authorization': 'Bearer ' + access_token,\n",
    "           'X-GitHub-Api-Version': '2022-11-28'}"
   ]
  },
  {
   "cell_type": "code",
   "execution_count": null,
   "id": "1a1fae5d",
   "metadata": {},
   "outputs": [],
   "source": [
    "page = 1\n",
    "followers_list = []\n",
    "\n",
    "while True: \n",
    "\n",
    "    # faz a requisição \n",
    "    url_page = f'{url}?page={page}'\n",
    "    response = requests.get(url_page, headers=headers)\n",
    "\n",
    "    # converte a resposta para um objeto JSON\n",
    "    followers = response.json()\n",
    "\n",
    "    # caso a lista esteja vazia, podemos sair do laço pois todos os dados foram extraidos\n",
    "    if len(followers)==0:\n",
    "        break\n",
    "\n",
    "    # adicionando os seguidores a lista\n",
    "    followers_list.append(followers)\n",
    "\n",
    "    # incrementa o valor de 'page' para a próxima requisição\n",
    "    page += 1"
   ]
  },
  {
   "cell_type": "code",
   "execution_count": 4,
   "id": "8f3d7ff9",
   "metadata": {},
   "outputs": [
    {
     "data": {
      "text/plain": [
       "69"
      ]
     },
     "execution_count": 4,
     "metadata": {},
     "output_type": "execute_result"
    }
   ],
   "source": [
    "len(followers_list)"
   ]
  },
  {
   "cell_type": "code",
   "execution_count": 63,
   "id": "716b510f",
   "metadata": {},
   "outputs": [
    {
     "data": {
      "text/plain": [
       "2070"
      ]
     },
     "execution_count": 63,
     "metadata": {},
     "output_type": "execute_result"
    }
   ],
   "source": [
    "followers = []\n",
    "for i in range(len(followers_list)):\n",
    "    for y in range(len(followers_list[i])):\n",
    "        followers.append(followers_list[i][y])\n",
    "\n",
    "69*30"
   ]
  }
 ],
 "metadata": {
  "kernelspec": {
   "display_name": ".venv",
   "language": "python",
   "name": "python3"
  },
  "language_info": {
   "codemirror_mode": {
    "name": "ipython",
    "version": 3
   },
   "file_extension": ".py",
   "mimetype": "text/x-python",
   "name": "python",
   "nbconvert_exporter": "python",
   "pygments_lexer": "ipython3",
   "version": "3.10.12"
  }
 },
 "nbformat": 4,
 "nbformat_minor": 5
}
