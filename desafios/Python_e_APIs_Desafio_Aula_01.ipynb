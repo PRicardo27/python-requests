{
 "cells": [
  {
   "cell_type": "markdown",
   "id": "10322c0a",
   "metadata": {},
   "source": [
    "Para praticar o conteúdo aprendido no decorrer dessa aula e também aprender novos, vamos realizar um desafio prático utilizando a biblioteca Requests e a API do GitHub.\n",
    "\n",
    "Faça uma requisição GET à API do Github para obter as informações do perfil de um usuário específico. Para isso, utilize a biblioteca Requests do Python e a URL https://api.github.com/users/{username}, substituindo {username} pelo nome de usuário desejado.\n",
    "\n",
    "Com o objeto response retornado pela requisição, imprima na tela as seguintes informações sobre a requisição:\n",
    "\n",
    "status code da requisição, para analisar se foi bem sucedida ou não;\n",
    "conteúdo da requisição, para conferir se os dados de usuário vieram corretamente;\n",
    "URL da requisição feita, para garantir que a url utilizada na requisição foi a correta.\n",
    "Após conferir isso, analise novamente o conteúdo retornado pela requisição e imprima na tela apenas as seguintes informações sobre a pessoa usuária em questão:\n",
    "\n",
    "Nome\n",
    "Nome de usuário\n",
    "Número de repositórios públicos\n",
    "Data de criação da conta no GitHub\n",
    "Dica: Para selecionar essas informações específicas, você pode visualizar o conteúdo da requisição no formato JSON e fazer a seleção das chaves que possuem as informações desejadas.\n",
    "\n",
    "Se precisar de ajuda, na seção \"Opinião do Instrutor\" você pode encontrar algumas formas de resolver os desafios propostos acima."
   ]
  },
  {
   "cell_type": "code",
   "execution_count": 1,
   "id": "adc4b7a1",
   "metadata": {},
   "outputs": [],
   "source": [
    "import requests"
   ]
  },
  {
   "cell_type": "code",
   "execution_count": null,
   "id": "83f87afb",
   "metadata": {},
   "outputs": [
    {
     "data": {
      "text/plain": [
       "<Response [200]>"
      ]
     },
     "execution_count": 4,
     "metadata": {},
     "output_type": "execute_result"
    }
   ],
   "source": [
    "r = requests.get('https://api.github.com/users/PRicardo27') "
   ]
  },
  {
   "cell_type": "code",
   "execution_count": 6,
   "id": "2d7f647f",
   "metadata": {},
   "outputs": [
    {
     "name": "stdout",
     "output_type": "stream",
     "text": [
      "200\n"
     ]
    }
   ],
   "source": [
    "print(r.status_code)"
   ]
  },
  {
   "cell_type": "code",
   "execution_count": 7,
   "id": "0f6e34cb",
   "metadata": {},
   "outputs": [
    {
     "name": "stdout",
     "output_type": "stream",
     "text": [
      "{'login': 'PRicardo27', 'id': 217436462, 'node_id': 'U_kgDODPXRLg', 'avatar_url': 'https://avatars.githubusercontent.com/u/217436462?v=4', 'gravatar_id': '', 'url': 'https://api.github.com/users/PRicardo27', 'html_url': 'https://github.com/PRicardo27', 'followers_url': 'https://api.github.com/users/PRicardo27/followers', 'following_url': 'https://api.github.com/users/PRicardo27/following{/other_user}', 'gists_url': 'https://api.github.com/users/PRicardo27/gists{/gist_id}', 'starred_url': 'https://api.github.com/users/PRicardo27/starred{/owner}{/repo}', 'subscriptions_url': 'https://api.github.com/users/PRicardo27/subscriptions', 'organizations_url': 'https://api.github.com/users/PRicardo27/orgs', 'repos_url': 'https://api.github.com/users/PRicardo27/repos', 'events_url': 'https://api.github.com/users/PRicardo27/events{/privacy}', 'received_events_url': 'https://api.github.com/users/PRicardo27/received_events', 'type': 'User', 'user_view_type': 'public', 'site_admin': False, 'name': 'Paulo Ricardo', 'company': None, 'blog': '', 'location': None, 'email': None, 'hireable': None, 'bio': None, 'twitter_username': None, 'public_repos': 1, 'public_gists': 0, 'followers': 0, 'following': 0, 'created_at': '2025-06-22T08:53:29Z', 'updated_at': '2025-06-26T13:38:23Z'}\n"
     ]
    }
   ],
   "source": [
    "print(r.json())"
   ]
  },
  {
   "cell_type": "code",
   "execution_count": 9,
   "id": "36e5c653",
   "metadata": {},
   "outputs": [
    {
     "name": "stdout",
     "output_type": "stream",
     "text": [
      "https://api.github.com/users/PRicardo27\n"
     ]
    }
   ],
   "source": [
    "print(r.url)"
   ]
  },
  {
   "cell_type": "code",
   "execution_count": 15,
   "id": "c95cc5d3",
   "metadata": {},
   "outputs": [
    {
     "name": "stdout",
     "output_type": "stream",
     "text": [
      "Nome: Paulo Ricardo\n",
      "Nome de usuário: PRicardo27\n",
      "Repositórios públicos: 1\n",
      "Usuário desde: 2025-06-22T08:53:29Z\n"
     ]
    }
   ],
   "source": [
    "user = r.json()\n",
    "\n",
    "name = user['name']\n",
    "login = user['login']\n",
    "reposit = user['public_repos']\n",
    "date_creat = user['created_at']\n",
    "\n",
    "print(f'Nome: {name}\\nNome de usuário: {login}\\nRepositórios públicos: {reposit}\\nUsuário desde: {date_creat}')"
   ]
  }
 ],
 "metadata": {
  "kernelspec": {
   "display_name": ".venv",
   "language": "python",
   "name": "python3"
  },
  "language_info": {
   "codemirror_mode": {
    "name": "ipython",
    "version": 3
   },
   "file_extension": ".py",
   "mimetype": "text/x-python",
   "name": "python",
   "nbconvert_exporter": "python",
   "pygments_lexer": "ipython3",
   "version": "3.10.12"
  }
 },
 "nbformat": 4,
 "nbformat_minor": 5
}
